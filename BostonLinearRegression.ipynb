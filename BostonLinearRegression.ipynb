{
 "cells": [
  {
   "cell_type": "code",
   "execution_count": 34,
   "metadata": {},
   "outputs": [],
   "source": [
    "from sklearn import datasets\n",
    "from sklearn import model_selection\n",
    "from sklearn.linear_model import LinearRegression\n",
    "import pandas as pd\n",
    "import numpy as np\n",
    "import matplotlib.pyplot as plt"
   ]
  },
  {
   "cell_type": "code",
   "execution_count": 10,
   "metadata": {},
   "outputs": [],
   "source": [
    "boston = datasets.load_boston()"
   ]
  },
  {
   "cell_type": "code",
   "execution_count": 28,
   "metadata": {},
   "outputs": [],
   "source": [
    "X = boston.data[:,1]\n",
    "Y = boston.target"
   ]
  },
  {
   "cell_type": "code",
   "execution_count": 29,
   "metadata": {},
   "outputs": [],
   "source": [
    "X_train , X_test , Y_train , Y_test = model_selection.train_test_split(X,Y,test_size = 0.3)"
   ]
  },
  {
   "cell_type": "code",
   "execution_count": 30,
   "metadata": {},
   "outputs": [],
   "source": [
    "def fit(X_train , Y_train):\n",
    "    num = (X_train*Y_train).mean() - X_train.mean()*Y_train.mean()\n",
    "    den = (X_train**2).mean() - X_train.mean()**2\n",
    "    m = num/den\n",
    "    c = Y_train.mean() - m*X_train.mean()\n",
    "    return m , c"
   ]
  },
  {
   "cell_type": "code",
   "execution_count": 31,
   "metadata": {},
   "outputs": [],
   "source": [
    "def predict(x , m , c):\n",
    "    return m*x + c\n",
    "\n",
    "def score(Y_truth , Y_pred):\n",
    "    u = ((Y_truth - Y_pred)**2).sum()\n",
    "    v = ((Y_truth - Y_truth.mean())**2).sum()\n",
    "    return 1-u/v"
   ]
  },
  {
   "cell_type": "code",
   "execution_count": 32,
   "metadata": {},
   "outputs": [
    {
     "name": "stdout",
     "output_type": "stream",
     "text": [
      "Test Score :  0.10228476829004507\n",
      "Train Score :  0.14313480300721082\n",
      "M and C  0.14926419054933926 20.921207820806806\n"
     ]
    }
   ],
   "source": [
    "m,c = fit(X_train ,Y_train)\n",
    "\n",
    "## test data\n",
    "Y_test_pred = predict(X_test , m , c)\n",
    "print(\"Test Score : \" , score(Y_test , Y_test_pred))\n",
    "\n",
    "## train data\n",
    "Y_train_pred = predict(X_train , m  , c)\n",
    "print(\"Train Score : \" , score(Y_train , Y_train_pred))\n",
    "print(\"M and C \" , m , c )"
   ]
  },
  {
   "cell_type": "code",
   "execution_count": 38,
   "metadata": {},
   "outputs": [],
   "source": [
    "X_train.reshape(-1,1)\n",
    "alg1 = LinearRegression()\n",
    "alg1.fit(X_train.reshape(-1,1) , Y_train)\n",
    "Y_alg1_test_pred = alg1.predict(X_test.reshape(-1,1))\n",
    "Y_alg1_train_pred = alg1.predict(X_train.reshape(-1,1))"
   ]
  },
  {
   "cell_type": "code",
   "execution_count": 39,
   "metadata": {},
   "outputs": [
    {
     "name": "stdout",
     "output_type": "stream",
     "text": [
      "m and C :  0.14926419054933934 20.921207820806803\n",
      "test score :  0.10228476829004507\n",
      "train score :  0.14313480300721082\n"
     ]
    }
   ],
   "source": [
    "print(\"m and C : \" , alg1.coef_[0] , alg1.intercept_)\n",
    "print(\"test score : \" , score(Y_test , Y_alg1_test_pred))\n",
    "print(\"train score : \" , score(Y_train , Y_alg1_train_pred))"
   ]
  }
 ],
 "metadata": {
  "kernelspec": {
   "display_name": "Python 3",
   "language": "python",
   "name": "python3"
  },
  "language_info": {
   "codemirror_mode": {
    "name": "ipython",
    "version": 3
   },
   "file_extension": ".py",
   "mimetype": "text/x-python",
   "name": "python",
   "nbconvert_exporter": "python",
   "pygments_lexer": "ipython3",
   "version": "3.7.3"
  }
 },
 "nbformat": 4,
 "nbformat_minor": 2
}
